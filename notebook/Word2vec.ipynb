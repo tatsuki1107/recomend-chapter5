{
 "cells": [
  {
   "cell_type": "markdown",
   "id": "caaaa856",
   "metadata": {},
   "source": [
    "# Word2vec"
   ]
  },
  {
   "cell_type": "code",
   "execution_count": 1,
   "id": "20b107d9",
   "metadata": {},
   "outputs": [],
   "source": [
    "# 親のフォルダのパスを追加\n",
    "import sys; sys.path.insert(0, '..')\n",
    "\n",
    "from util.data_loader import DataLoader\n",
    "from util.metric_calculator import MetricCalculator"
   ]
  },
  {
   "cell_type": "code",
   "execution_count": 2,
   "id": "9f40fb34",
   "metadata": {},
   "outputs": [],
   "source": [
    "# Movielensのデータの読み込み\n",
    "data_loader = DataLoader(num_users=1000, num_test_items=5, data_path='../data/ml-10M100K/')\n",
    "movielens = data_loader.load()"
   ]
  },
  {
   "cell_type": "code",
   "execution_count": 3,
   "id": "07907088",
   "metadata": {},
   "outputs": [
    {
     "name": "stderr",
     "output_type": "stream",
     "text": [
      "/Users/mk/.pyenv/versions/3.7.8/envs/recommender-systems-at-work3.7.8/lib/python3.7/site-packages/gensim/similarities/__init__.py:15: UserWarning: The gensim.similarities.levenshtein submodule is disabled, because the optional Levenshtein package <https://pypi.org/project/python-Levenshtein/> is unavailable. Install Levenhstein (e.g. `pip install python-Levenshtein`) to suppress this warning.\n",
      "  warnings.warn(msg)\n"
     ]
    }
   ],
   "source": [
    "import gensim\n",
    "import logging\n",
    "\n",
    "movie_content = movielens.item_content.copy()\n",
    "\n",
    "# tagが付与されていない映画もあるが、genreはすべての映画に付与されている\n",
    "# tagとgenreを結合したものを映画のコンテンツ情報として似ている映画を探して推薦していく\n",
    "# tagがない映画に関しては、NaNになっているので、空のリストに変換してから処理をする\n",
    "movie_content['tag_genre'] = movie_content['tag'].fillna(\"\").apply(list) + movie_content['genre'].apply(list)\n",
    "movie_content['tag_genre'] = movie_content['tag_genre'].apply(lambda x:set(map(str, x)))\n",
    "\n",
    "# タグとジャンルデータを使って、word2vecを学習する\n",
    "tag_genre_data = movie_content.tag_genre.tolist()\n",
    "model = gensim.models.word2vec.Word2Vec(tag_genre_data, vector_size=100, window=100, sg=1, hs=0, epochs=50, min_count=5)\n"
   ]
  },
  {
   "cell_type": "code",
   "execution_count": 4,
   "id": "cad9e002",
   "metadata": {},
   "outputs": [
    {
     "data": {
      "text/plain": [
       "[('studio ghibli', 0.8409439921379089),\n",
       " ('zibri studio', 0.8167261481285095),\n",
       " ('pelicula anime', 0.797528862953186),\n",
       " ('miyazaki', 0.786034107208252),\n",
       " ('hayao miyazaki', 0.7857083678245544),\n",
       " ('japan', 0.6094456911087036),\n",
       " ('Animation', 0.5489083528518677),\n",
       " ('wilderness', 0.5156647562980652),\n",
       " ('steampunk', 0.49222904443740845),\n",
       " ('environmental', 0.4773883521556854)]"
      ]
     },
     "execution_count": 4,
     "metadata": {},
     "output_type": "execute_result"
    }
   ],
   "source": [
    "# animeタグに似ているタグを確認\n",
    "model.wv.most_similar('anime')"
   ]
  },
  {
   "cell_type": "code",
   "execution_count": 5,
   "id": "a157be67",
   "metadata": {},
   "outputs": [],
   "source": [
    "# Word2vecContentレコメンド\n",
    "from src.word2vec import Word2vecRecommender\n",
    "recommender = Word2vecRecommender()\n",
    "recommend_result = recommender.recommend(movielens)"
   ]
  },
  {
   "cell_type": "code",
   "execution_count": 6,
   "id": "f1e57317",
   "metadata": {},
   "outputs": [
    {
     "name": "stdout",
     "output_type": "stream",
     "text": [
      "rmse=0.000, Precision@K=0.010, Recall@K=0.033\n"
     ]
    }
   ],
   "source": [
    "#  評価\n",
    "metric_calculator = MetricCalculator()\n",
    "metrics = metric_calculator.calc(\n",
    "    movielens.test.rating.tolist(), recommend_result.rating.tolist(),\n",
    "    movielens.test_user2items, recommend_result.user2items, k=10)\n",
    "print(metrics)"
   ]
  },
  {
   "cell_type": "code",
   "execution_count": null,
   "id": "36426496",
   "metadata": {},
   "outputs": [],
   "source": []
  },
  {
   "cell_type": "code",
   "execution_count": null,
   "id": "e0ef174b",
   "metadata": {},
   "outputs": [],
   "source": []
  }
 ],
 "metadata": {
  "kernelspec": {
   "display_name": "Python 3 (ipykernel)",
   "language": "python",
   "name": "python3"
  },
  "language_info": {
   "codemirror_mode": {
    "name": "ipython",
    "version": 3
   },
   "file_extension": ".py",
   "mimetype": "text/x-python",
   "name": "python",
   "nbconvert_exporter": "python",
   "pygments_lexer": "ipython3",
   "version": "3.7.8"
  }
 },
 "nbformat": 4,
 "nbformat_minor": 5
}
